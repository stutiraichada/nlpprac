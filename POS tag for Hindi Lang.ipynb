{
 "cells": [
  {
   "cell_type": "code",
   "execution_count": 1,
   "metadata": {},
   "outputs": [
    {
     "name": "stderr",
     "output_type": "stream",
     "text": [
      "C:\\Users\\91636\\AppData\\Local\\Programs\\Python\\Python312\\python.exe: No module named pip\n"
     ]
    }
   ],
   "source": [
    "!py -m pip install numpy pandas nltk spacy"
   ]
  },
  {
   "cell_type": "code",
   "execution_count": 2,
   "metadata": {},
   "outputs": [
    {
     "name": "stderr",
     "output_type": "stream",
     "text": [
      "[nltk_data] Downloading package punkt to\n",
      "[nltk_data]     C:\\Users\\91636\\AppData\\Roaming\\nltk_data...\n",
      "[nltk_data]   Package punkt is already up-to-date!\n",
      "[nltk_data] Downloading package stopwords to\n",
      "[nltk_data]     C:\\Users\\91636\\AppData\\Roaming\\nltk_data...\n",
      "[nltk_data]   Package stopwords is already up-to-date!\n",
      "[nltk_data] Downloading package wordnet to\n",
      "[nltk_data]     C:\\Users\\91636\\AppData\\Roaming\\nltk_data...\n",
      "[nltk_data]   Package wordnet is already up-to-date!\n",
      "[nltk_data] Downloading package maxent_ne_chunker to\n",
      "[nltk_data]     C:\\Users\\91636\\AppData\\Roaming\\nltk_data...\n",
      "[nltk_data]   Package maxent_ne_chunker is already up-to-date!\n",
      "[nltk_data] Downloading package words to\n",
      "[nltk_data]     C:\\Users\\91636\\AppData\\Roaming\\nltk_data...\n",
      "[nltk_data]   Package words is already up-to-date!\n",
      "[nltk_data] Downloading package averaged_perceptron_tagger to\n",
      "[nltk_data]     C:\\Users\\91636\\AppData\\Roaming\\nltk_data...\n",
      "[nltk_data]   Package averaged_perceptron_tagger is already up-to-\n",
      "[nltk_data]       date!\n",
      "[nltk_data] Downloading package omw-1.4 to\n",
      "[nltk_data]     C:\\Users\\91636\\AppData\\Roaming\\nltk_data...\n",
      "[nltk_data]   Package omw-1.4 is already up-to-date!\n"
     ]
    },
    {
     "data": {
      "text/plain": [
       "True"
      ]
     },
     "execution_count": 2,
     "metadata": {},
     "output_type": "execute_result"
    }
   ],
   "source": [
    "import nltk\n",
    "nltk.download(\"punkt\")\n",
    "nltk.download(\"stopwords\")\n",
    "nltk.download(\"wordnet\")\n",
    "nltk.download('maxent_ne_chunker')\n",
    "nltk.download('words')\n",
    "nltk.download('averaged_perceptron_tagger')\n",
    "nltk.download('omw-1.4')"
   ]
  },
  {
   "cell_type": "code",
   "execution_count": 3,
   "metadata": {},
   "outputs": [
    {
     "name": "stdout",
     "output_type": "stream",
     "text": [
      "Sentence 1 POS Tags:\n",
      "[('चालाक', 'JJ'), ('भूरी', 'NNP'), ('लोमड़ी', 'NNP'), ('आलसी', 'NNP'), ('कुत्ते', 'NNP'), ('के', 'NNP'), ('ऊपर', 'NNP'), ('कूद', 'NNP'), ('जाती', 'NNP'), ('है।', 'NN')]\n",
      "Sentence 2 POS Tags:\n",
      "[('बिल्ली', 'JJ'), ('चटाई', 'NNP'), ('पर', 'NNP'), ('बैठी', 'NNP'), ('हैं।', 'NN')]\n",
      "Sentence 3 POS Tags:\n",
      "[('उसे', 'JJ'), ('किताबें', 'NNP'), ('पढ़ना', 'NNP'), ('पसंद', 'NNP'), ('है।', 'NN')]\n",
      "Sentence 4 POS Tags:\n",
      "[('आज', 'JJ'), ('बाहर', 'NNP'), ('बारिश', 'NNP'), ('हो', 'NNP'), ('रही', 'NNP'), ('है।', 'NN')]\n"
     ]
    }
   ],
   "source": [
    "from nltk import pos_tag, ne_chunk, RegexpParser\n",
    "from nltk.tokenize import word_tokenize\n",
    "\n",
    "# Define the Hindi corpus\n",
    "corpus = [\n",
    "    \"चालाक भूरी लोमड़ी आलसी कुत्ते के ऊपर कूद जाती है।\",\n",
    "    \"बिल्ली चटाई पर बैठी हैं।\",\n",
    "    \"उसे किताबें पढ़ना पसंद है।\",\n",
    "    \"आज बाहर बारिश हो रही है।\"\n",
    "]\n",
    "\n",
    "# Tokenize the text\n",
    "tokenized_corpus = [word_tokenize(sentence) for sentence in corpus]\n",
    "\n",
    "# Function to perform POS tagging (works better with English but included here for structure)\n",
    "def pos_tagging(text):\n",
    "    tags = pos_tag(text)  # NLTK's default tagger is for English, so it may not work well on Hindi.\n",
    "    return tags\n",
    "\n",
    "# Apply POS tagging on each sentence in the tokenized corpus\n",
    "tagged_corpus = [pos_tagging(sentence) for sentence in tokenized_corpus]\n",
    "\n",
    "# Display POS tags\n",
    "for i, tagged_sentence in enumerate(tagged_corpus, 1):\n",
    "    print(f\"Sentence {i} POS Tags:\")\n",
    "    print(tagged_sentence)\n"
   ]
  },
  {
   "cell_type": "code",
   "execution_count": null,
   "metadata": {},
   "outputs": [],
   "source": []
  },
  {
   "cell_type": "code",
   "execution_count": null,
   "metadata": {},
   "outputs": [],
   "source": []
  }
 ],
 "metadata": {
  "kernelspec": {
   "display_name": "base",
   "language": "python",
   "name": "python3"
  },
  "language_info": {
   "codemirror_mode": {
    "name": "ipython",
    "version": 3
   },
   "file_extension": ".py",
   "mimetype": "text/x-python",
   "name": "python",
   "nbconvert_exporter": "python",
   "pygments_lexer": "ipython3",
   "version": "3.11.7"
  }
 },
 "nbformat": 4,
 "nbformat_minor": 2
}
