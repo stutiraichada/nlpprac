{
 "cells": [
  {
   "cell_type": "code",
   "execution_count": 4,
   "metadata": {},
   "outputs": [
    {
     "name": "stderr",
     "output_type": "stream",
     "text": [
      "C:\\Users\\91636\\AppData\\Local\\Programs\\Python\\Python312\\python.exe: No module named pip\n"
     ]
    }
   ],
   "source": [
    "!py -m pip install numpy pandas nltk spacy"
   ]
  },
  {
   "cell_type": "code",
   "execution_count": 7,
   "metadata": {},
   "outputs": [
    {
     "name": "stderr",
     "output_type": "stream",
     "text": [
      "[nltk_data] Downloading package punkt to\n",
      "[nltk_data]     C:\\Users\\91636\\AppData\\Roaming\\nltk_data...\n",
      "[nltk_data]   Unzipping tokenizers\\punkt.zip.\n",
      "[nltk_data] Downloading package stopwords to\n",
      "[nltk_data]     C:\\Users\\91636\\AppData\\Roaming\\nltk_data...\n",
      "[nltk_data]   Unzipping corpora\\stopwords.zip.\n",
      "[nltk_data] Downloading package wordnet to\n",
      "[nltk_data]     C:\\Users\\91636\\AppData\\Roaming\\nltk_data...\n",
      "[nltk_data] Downloading package maxent_ne_chunker to\n",
      "[nltk_data]     C:\\Users\\91636\\AppData\\Roaming\\nltk_data...\n",
      "[nltk_data]   Unzipping chunkers\\maxent_ne_chunker.zip.\n",
      "[nltk_data] Downloading package words to\n",
      "[nltk_data]     C:\\Users\\91636\\AppData\\Roaming\\nltk_data...\n",
      "[nltk_data]   Unzipping corpora\\words.zip.\n",
      "[nltk_data] Downloading package averaged_perceptron_tagger to\n",
      "[nltk_data]     C:\\Users\\91636\\AppData\\Roaming\\nltk_data...\n",
      "[nltk_data]   Unzipping taggers\\averaged_perceptron_tagger.zip.\n",
      "[nltk_data] Downloading package omw-1.4 to\n",
      "[nltk_data]     C:\\Users\\91636\\AppData\\Roaming\\nltk_data...\n"
     ]
    },
    {
     "data": {
      "text/plain": [
       "True"
      ]
     },
     "execution_count": 7,
     "metadata": {},
     "output_type": "execute_result"
    }
   ],
   "source": [
    "import nltk\n",
    "nltk.download(\"punkt\")\n",
    "nltk.download(\"stopwords\")\n",
    "nltk.download(\"wordnet\")\n",
    "nltk.download('maxent_ne_chunker')\n",
    "nltk.download('words')\n",
    "nltk.download('averaged_perceptron_tagger')\n",
    "nltk.download('omw-1.4')"
   ]
  },
  {
   "cell_type": "code",
   "execution_count": 8,
   "metadata": {},
   "outputs": [],
   "source": [
    "from nltk.stem import WordNetLemmatizer\n",
    "from nltk.stem import PorterStemmer\n",
    "from nltk.corpus import stopwords\n",
    "from nltk.tokenize import word_tokenize , sent_tokenize\n",
    "import re\n",
    "import numpy as np\n",
    "import pandas as pd"
   ]
  },
  {
   "cell_type": "code",
   "execution_count": 9,
   "metadata": {},
   "outputs": [
    {
     "name": "stdout",
     "output_type": "stream",
     "text": [
      "['बराक', 'ओबामा', 'अमेरिकेचे']\n"
     ]
    }
   ],
   "source": [
    "import re\n",
    "from nltk.tokenize import word_tokenize\n",
    "\n",
    "text = \"बराक ओबामा 44व्या अमेरिकेचे अध्यक्ष होते.\"\n",
    "\n",
    "stopwords = set([\n",
    "    'आहे', 'का', 'तू', 'तो', 'ती', 'नाही', 'मला', 'केला', 'है', 'होते', 'अध्यक्ष', 'व्या'\n",
    "])\n",
    "\n",
    "def cln(text):\n",
    "    text = text.lower()\n",
    "    text = re.sub(r\"[^\\u0900-\\u097F]\", \" \", text)\n",
    "    text = word_tokenize(text)\n",
    "    text = [word for word in text if word not in stopwords]\n",
    "    return text\n",
    "toke_mar_text = cln(text)\n",
    "\n",
    "print(toke_mar_text)"
   ]
  },
  {
   "cell_type": "code",
   "execution_count": 10,
   "metadata": {},
   "outputs": [
    {
     "name": "stdout",
     "output_type": "stream",
     "text": [
      "['ભારતના', 'વડાપ્રધાન', 'નરેન્દ્ર', 'મોદી']\n"
     ]
    }
   ],
   "source": [
    "import re\n",
    "from nltk.tokenize import word_tokenize\n",
    "text = \"ભારતના વડાપ્રધાન નરેન્દ્ર મોદી છે.\"\n",
    "stopwords = set([\n",
    "    'છે', 'હૈ', 'કે', 'આ', 'તે', 'માટે', 'નથી', 'જોઈએ', 'કરવું', 'આપણું'\n",
    "])\n",
    "\n",
    "def cln(text):\n",
    "    text = text.lower()\n",
    "    text = re.sub(r\"[^\\u0A80-\\u0AFF]\", \" \", text)\n",
    "    text = word_tokenize(text)\n",
    "    text = [word for word in text if word not in stopwords]\n",
    "    return text\n",
    "tok_Guj_text = cln(text)\n",
    "print(tok_Guj_text)"
   ]
  },
  {
   "cell_type": "code",
   "execution_count": 11,
   "metadata": {},
   "outputs": [
    {
     "name": "stdout",
     "output_type": "stream",
     "text": [
      "['बराक', 'ओबामा', 'वें', 'अमेरिका', 'के', 'थे।']\n"
     ]
    }
   ],
   "source": [
    "import re\n",
    "from nltk.tokenize import word_tokenize\n",
    "text = \"बराक ओबामा 44वें अमेरिका के राष्ट्रपति थे।\"\n",
    "stopwords = set([\n",
    "    'है', 'का', 'तू', 'वह', 'नहीं', 'मुझे', 'किया', 'थे', 'राष्ट्रपति', 'वाले'\n",
    "])\n",
    "\n",
    "def cln(text):\n",
    "    text = text.lower()\n",
    "    text = re.sub(r\"[^\\u0900-\\u097F]\", \" \", text)\n",
    "    text = word_tokenize(text)\n",
    "    text = [word for word in text if word not in stopwords]\n",
    "    return text\n",
    "tok_hin_text = cln(text)\n",
    "print(tok_hin_text)"
   ]
  },
  {
   "cell_type": "code",
   "execution_count": 16,
   "metadata": {},
   "outputs": [
    {
     "name": "stdout",
     "output_type": "stream",
     "text": [
      "['बराक', 'ओबामा', 'अमेरिकेचे']\n"
     ]
    }
   ],
   "source": [
    "def ste(toke_mar_text):\n",
    "    z= []\n",
    "    ps = PorterStemmer()\n",
    "    for i in toke_mar_text:\n",
    "        stem = ps.stem(i)\n",
    "        z.append(stem)\n",
    "    return z\n",
    "stemmed_text = ste(toke_mar_text)\n",
    "print(stemmed_text)"
   ]
  },
  {
   "cell_type": "code",
   "execution_count": 20,
   "metadata": {},
   "outputs": [
    {
     "name": "stdout",
     "output_type": "stream",
     "text": [
      "['बराक', 'ओबामा', 'अमेरिकेचे']\n"
     ]
    }
   ],
   "source": [
    "def lem(tok_text):\n",
    "    z= []\n",
    "    Le = WordNetLemmatizer()\n",
    "    for i in tok_text:\n",
    "        lemma = Le.lemmatize(i)\n",
    "        z.append(lemma)\n",
    "    return z\n",
    "lemmatized_text = lem(toke_mar_text)  \n",
    "print(lemmatized_text)"
   ]
  },
  {
   "cell_type": "code",
   "execution_count": null,
   "metadata": {},
   "outputs": [],
   "source": []
  }
 ],
 "metadata": {
  "kernelspec": {
   "display_name": "Python 3",
   "language": "python",
   "name": "python3"
  },
  "language_info": {
   "codemirror_mode": {
    "name": "ipython",
    "version": 3
   },
   "file_extension": ".py",
   "mimetype": "text/x-python",
   "name": "python",
   "nbconvert_exporter": "python",
   "pygments_lexer": "ipython3",
   "version": "3.11.7"
  }
 },
 "nbformat": 4,
 "nbformat_minor": 2
}
