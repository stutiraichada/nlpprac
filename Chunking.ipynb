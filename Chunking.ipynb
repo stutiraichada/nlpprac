{
 "cells": [
  {
   "cell_type": "code",
   "execution_count": 1,
   "metadata": {},
   "outputs": [
    {
     "name": "stderr",
     "output_type": "stream",
     "text": [
      "C:\\Users\\91636\\AppData\\Local\\Programs\\Python\\Python312\\python.exe: No module named pip\n"
     ]
    }
   ],
   "source": [
    "!py -m pip install numpy pandas nltk spacy"
   ]
  },
  {
   "cell_type": "code",
   "execution_count": 2,
   "metadata": {},
   "outputs": [
    {
     "name": "stdout",
     "output_type": "stream",
     "text": [
      "Sentence 1 Chunks:\n",
      "(S\n",
      "  चालाक/JJ\n",
      "  भूरी/NNP\n",
      "  लोमड़ी/NNP\n",
      "  आलसी/NNP\n",
      "  कुत्ते/NNP\n",
      "  के/NNP\n",
      "  ऊपर/NNP\n",
      "  कूद/NNP\n",
      "  जाती/NNP\n",
      "  है।/NN)\n",
      "Sentence 2 Chunks:\n",
      "(S बिल्ली/JJ चटाई/NNP पर/NNP बैठी/NNP हैं।/NN)\n",
      "Sentence 3 Chunks:\n",
      "(S उसे/JJ किताबें/NNP पढ़ना/NNP पसंद/NNP है।/NN)\n",
      "Sentence 4 Chunks:\n",
      "(S आज/JJ बाहर/NNP बारिश/NNP हो/NNP रही/NNP है।/NN)\n"
     ]
    }
   ],
   "source": [
    "from nltk import pos_tag, ne_chunk\n",
    "from nltk.tokenize import word_tokenize\n",
    "\n",
    "# Define the Hindi corpus\n",
    "corpus = [\n",
    "    \"चालाक भूरी लोमड़ी आलसी कुत्ते के ऊपर कूद जाती है।\",\n",
    "    \"बिल्ली चटाई पर बैठी हैं।\",\n",
    "    \"उसे किताबें पढ़ना पसंद है।\",\n",
    "    \"आज बाहर बारिश हो रही है।\"\n",
    "]\n",
    "\n",
    "# Tokenize each sentence\n",
    "tokenized_corpus = [word_tokenize(sentence) for sentence in corpus]\n",
    "\n",
    "# Function to perform POS tagging\n",
    "def pos_tagging(text):\n",
    "    # Apply POS tagging (may not work well for Hindi)\n",
    "    tags = pos_tag(text)\n",
    "    return tags\n",
    "\n",
    "# Function to perform chunking\n",
    "def chunking(pos_tags):\n",
    "    # Perform Named Entity Chunking\n",
    "    chunks = ne_chunk(pos_tags)\n",
    "    return chunks\n",
    "\n",
    "# Apply POS tagging and chunking to each sentence in the corpus\n",
    "for i, sentence in enumerate(tokenized_corpus, 1):\n",
    "    pos_tags = pos_tagging(sentence)\n",
    "    chunks = chunking(pos_tags)\n",
    "    print(f\"Sentence {i} Chunks:\")\n",
    "    print(chunks)\n"
   ]
  },
  {
   "cell_type": "code",
   "execution_count": null,
   "metadata": {},
   "outputs": [],
   "source": []
  }
 ],
 "metadata": {
  "kernelspec": {
   "display_name": "base",
   "language": "python",
   "name": "python3"
  },
  "language_info": {
   "codemirror_mode": {
    "name": "ipython",
    "version": 3
   },
   "file_extension": ".py",
   "mimetype": "text/x-python",
   "name": "python",
   "nbconvert_exporter": "python",
   "pygments_lexer": "ipython3",
   "version": "3.11.7"
  }
 },
 "nbformat": 4,
 "nbformat_minor": 2
}
